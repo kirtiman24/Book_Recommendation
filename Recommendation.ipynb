{
  "nbformat": 4,
  "nbformat_minor": 0,
  "metadata": {
    "colab": {
      "name": "Recommendation.ipynb",
      "provenance": [],
      "collapsed_sections": [],
      "authorship_tag": "ABX9TyPovi0cD9dPLw45BR3G5j5F",
      "include_colab_link": true
    },
    "kernelspec": {
      "name": "python3",
      "display_name": "Python 3"
    }
  },
  "cells": [
    {
      "cell_type": "markdown",
      "metadata": {
        "id": "view-in-github",
        "colab_type": "text"
      },
      "source": [
        "<a href=\"https://colab.research.google.com/github/kirtiman24/Book_Recommendation/blob/master/Recommendation.ipynb\" target=\"_parent\"><img src=\"https://colab.research.google.com/assets/colab-badge.svg\" alt=\"Open In Colab\"/></a>"
      ]
    },
    {
      "cell_type": "code",
      "metadata": {
        "id": "f1ubCuwZ7nLV"
      },
      "source": [
        "import pandas as pd\n",
        "import numpy as np\n",
        "import seaborn as sns\n",
        "import matplotlib.pyplot as plt\n",
        "pd.set_option('display.max_columns',500)\n",
        "pd.set_option('display.max_rows',500)\n",
        "from sklearn.feature_extraction.text import TfidfVectorizer\n",
        "from sklearn.metrics.pairwise import cosine_similarity\n",
        "from sklearn.cluster import MiniBatchKMeans"
      ],
      "execution_count": 66,
      "outputs": []
    },
    {
      "cell_type": "code",
      "metadata": {
        "id": "ZvaAawl470wY"
      },
      "source": [
        "data=pd.read_csv('/content/books.csv')"
      ],
      "execution_count": 70,
      "outputs": []
    },
    {
      "cell_type": "code",
      "metadata": {
        "id": "KAzu9Zdi7-c7",
        "outputId": "1e6e4574-96d1-4530-8e39-1829260179e0",
        "colab": {
          "base_uri": "https://localhost:8080/",
          "height": 751
        }
      },
      "source": [
        "data.head(5)"
      ],
      "execution_count": 71,
      "outputs": [
        {
          "output_type": "execute_result",
          "data": {
            "text/html": [
              "<div>\n",
              "<style scoped>\n",
              "    .dataframe tbody tr th:only-of-type {\n",
              "        vertical-align: middle;\n",
              "    }\n",
              "\n",
              "    .dataframe tbody tr th {\n",
              "        vertical-align: top;\n",
              "    }\n",
              "\n",
              "    .dataframe thead th {\n",
              "        text-align: right;\n",
              "    }\n",
              "</style>\n",
              "<table border=\"1\" class=\"dataframe\">\n",
              "  <thead>\n",
              "    <tr style=\"text-align: right;\">\n",
              "      <th></th>\n",
              "      <th>bookID</th>\n",
              "      <th>title</th>\n",
              "      <th>authors</th>\n",
              "      <th>average_rating</th>\n",
              "      <th>isbn</th>\n",
              "      <th>isbn13</th>\n",
              "      <th>language_code</th>\n",
              "      <th>num_pages</th>\n",
              "      <th>ratings_count</th>\n",
              "      <th>text_reviews_count</th>\n",
              "      <th>publication_date</th>\n",
              "      <th>publisher</th>\n",
              "      <th>Unnamed: 12</th>\n",
              "    </tr>\n",
              "  </thead>\n",
              "  <tbody>\n",
              "    <tr>\n",
              "      <th>0</th>\n",
              "      <td>1</td>\n",
              "      <td>Harry Potter and the Half-Blood Prince (Harry ...</td>\n",
              "      <td>J.K. Rowling/Mary GrandPré</td>\n",
              "      <td>4.57</td>\n",
              "      <td>439785960</td>\n",
              "      <td>9780439785969</td>\n",
              "      <td>eng</td>\n",
              "      <td>652</td>\n",
              "      <td>2095690</td>\n",
              "      <td>27591</td>\n",
              "      <td>9/16/2006</td>\n",
              "      <td>Scholastic Inc.</td>\n",
              "      <td>NaN</td>\n",
              "    </tr>\n",
              "    <tr>\n",
              "      <th>1</th>\n",
              "      <td>2</td>\n",
              "      <td>Harry Potter and the Order of the Phoenix (Har...</td>\n",
              "      <td>J.K. Rowling/Mary GrandPré</td>\n",
              "      <td>4.49</td>\n",
              "      <td>439358078</td>\n",
              "      <td>9780439358071</td>\n",
              "      <td>eng</td>\n",
              "      <td>870</td>\n",
              "      <td>2153167</td>\n",
              "      <td>29221</td>\n",
              "      <td>9/1/2004</td>\n",
              "      <td>Scholastic Inc.</td>\n",
              "      <td>NaN</td>\n",
              "    </tr>\n",
              "    <tr>\n",
              "      <th>2</th>\n",
              "      <td>4</td>\n",
              "      <td>Harry Potter and the Chamber of Secrets (Harry...</td>\n",
              "      <td>J.K. Rowling</td>\n",
              "      <td>4.42</td>\n",
              "      <td>439554896</td>\n",
              "      <td>9780439554893</td>\n",
              "      <td>eng</td>\n",
              "      <td>352</td>\n",
              "      <td>6333</td>\n",
              "      <td>244</td>\n",
              "      <td>11/1/2003</td>\n",
              "      <td>Scholastic</td>\n",
              "      <td>NaN</td>\n",
              "    </tr>\n",
              "    <tr>\n",
              "      <th>3</th>\n",
              "      <td>5</td>\n",
              "      <td>Harry Potter and the Prisoner of Azkaban (Harr...</td>\n",
              "      <td>J.K. Rowling/Mary GrandPré</td>\n",
              "      <td>4.56</td>\n",
              "      <td>043965548X</td>\n",
              "      <td>9780439655484</td>\n",
              "      <td>eng</td>\n",
              "      <td>435</td>\n",
              "      <td>2339585</td>\n",
              "      <td>36325</td>\n",
              "      <td>5/1/2004</td>\n",
              "      <td>Scholastic Inc.</td>\n",
              "      <td>NaN</td>\n",
              "    </tr>\n",
              "    <tr>\n",
              "      <th>4</th>\n",
              "      <td>8</td>\n",
              "      <td>Harry Potter Boxed Set  Books 1-5 (Harry Potte...</td>\n",
              "      <td>J.K. Rowling/Mary GrandPré</td>\n",
              "      <td>4.78</td>\n",
              "      <td>439682584</td>\n",
              "      <td>9780439682589</td>\n",
              "      <td>eng</td>\n",
              "      <td>2690</td>\n",
              "      <td>41428</td>\n",
              "      <td>164</td>\n",
              "      <td>9/13/2004</td>\n",
              "      <td>Scholastic</td>\n",
              "      <td>NaN</td>\n",
              "    </tr>\n",
              "  </tbody>\n",
              "</table>\n",
              "</div>"
            ],
            "text/plain": [
              "   bookID                                              title  \\\n",
              "0       1  Harry Potter and the Half-Blood Prince (Harry ...   \n",
              "1       2  Harry Potter and the Order of the Phoenix (Har...   \n",
              "2       4  Harry Potter and the Chamber of Secrets (Harry...   \n",
              "3       5  Harry Potter and the Prisoner of Azkaban (Harr...   \n",
              "4       8  Harry Potter Boxed Set  Books 1-5 (Harry Potte...   \n",
              "\n",
              "                      authors average_rating        isbn         isbn13  \\\n",
              "0  J.K. Rowling/Mary GrandPré           4.57   439785960  9780439785969   \n",
              "1  J.K. Rowling/Mary GrandPré           4.49   439358078  9780439358071   \n",
              "2                J.K. Rowling           4.42   439554896  9780439554893   \n",
              "3  J.K. Rowling/Mary GrandPré           4.56  043965548X  9780439655484   \n",
              "4  J.K. Rowling/Mary GrandPré           4.78   439682584  9780439682589   \n",
              "\n",
              "  language_code   num_pages  ratings_count  text_reviews_count  \\\n",
              "0           eng         652        2095690               27591   \n",
              "1           eng         870        2153167               29221   \n",
              "2           eng         352           6333                 244   \n",
              "3           eng         435        2339585               36325   \n",
              "4           eng        2690          41428                 164   \n",
              "\n",
              "  publication_date        publisher Unnamed: 12  \n",
              "0        9/16/2006  Scholastic Inc.         NaN  \n",
              "1         9/1/2004  Scholastic Inc.         NaN  \n",
              "2        11/1/2003       Scholastic         NaN  \n",
              "3         5/1/2004  Scholastic Inc.         NaN  \n",
              "4        9/13/2004       Scholastic         NaN  "
            ]
          },
          "metadata": {
            "tags": []
          },
          "execution_count": 71
        }
      ]
    },
    {
      "cell_type": "code",
      "metadata": {
        "id": "KTp6xNbE9IIs",
        "outputId": "69db94ba-95db-4105-e23b-683dc2513fb5",
        "colab": {
          "base_uri": "https://localhost:8080/",
          "height": 85
        }
      },
      "source": [
        "data.columns"
      ],
      "execution_count": 69,
      "outputs": [
        {
          "output_type": "execute_result",
          "data": {
            "text/plain": [
              "Index(['bookID', 'title', 'authors', 'average_rating', 'isbn', 'isbn13',\n",
              "       'language_code', '  num_pages', 'ratings_count', 'text_reviews_count',\n",
              "       'publication_date', 'publisher', 'Unnamed: 12'],\n",
              "      dtype='object')"
            ]
          },
          "metadata": {
            "tags": []
          },
          "execution_count": 69
        }
      ]
    },
    {
      "cell_type": "code",
      "metadata": {
        "id": "NDAicUkA9KJf",
        "outputId": "6f04d37d-6e31-4efd-ce72-dfa3e6002781",
        "colab": {
          "base_uri": "https://localhost:8080/",
          "height": 238
        }
      },
      "source": [
        "for x in range(len(list(data.columns))):\n",
        "    print(\"{} number of missing values in column {}\".format(sum((data.iloc[:,x]).astype('str').str.contains('\\?')), \n",
        "          list(data.columns)[x]))"
      ],
      "execution_count": 16,
      "outputs": [
        {
          "output_type": "stream",
          "text": [
            "0 number of missing values in column bookID\n",
            "70 number of missing values in column title\n",
            "0 number of missing values in column authors\n",
            "0 number of missing values in column average_rating\n",
            "0 number of missing values in column isbn\n",
            "0 number of missing values in column isbn13\n",
            "0 number of missing values in column language_code\n",
            "0 number of missing values in column   num_pages\n",
            "0 number of missing values in column ratings_count\n",
            "0 number of missing values in column text_reviews_count\n",
            "0 number of missing values in column publication_date\n",
            "0 number of missing values in column publisher\n",
            "0 number of missing values in column Unnamed: 12\n"
          ],
          "name": "stdout"
        }
      ]
    },
    {
      "cell_type": "code",
      "metadata": {
        "id": "x5JEZM4b-zK3",
        "outputId": "3474612f-ebb3-472d-88df-e36e47bc11fb",
        "colab": {
          "base_uri": "https://localhost:8080/",
          "height": 558
        }
      },
      "source": [
        "ax =data.groupby('language_code')['title'].count().reset_index().sort_values('title',ascending=False).head(10).set_index('language_code').plot.bar(figsize=(14,8),rot=0)\n",
        "plt.title('language code',fontsize=20)\n",
        "plt.xticks(fontsize=15)\n"
      ],
      "execution_count": 72,
      "outputs": [
        {
          "output_type": "execute_result",
          "data": {
            "text/plain": [
              "(array([0, 1, 2, 3, 4, 5, 6, 7, 8, 9]),\n",
              " <a list of 10 Text major ticklabel objects>)"
            ]
          },
          "metadata": {
            "tags": []
          },
          "execution_count": 72
        },
        {
          "output_type": "display_data",
          "data": {
            "image/png": "[encoded data removed]",
            "text/plain": [
              "<Figure size 1008x576 with 1 Axes>"
            ]
          },
          "metadata": {
            "tags": [],
            "needs_background": "light"
          }
        }
      ]
    },
    {
      "cell_type": "code",
      "metadata": {
        "id": "aliVooVIABVa",
        "outputId": "100f809f-d384-4da0-eed3-ec56d41b3928",
        "colab": {
          "base_uri": "https://localhost:8080/",
          "height": 278
        }
      },
      "source": [
        "most_rated = data.sort_values('ratings_count',ascending=False).head(7).set_index('title')['ratings_count'].sort_values().plot.barh(width=0.9,color=sns.color_palette('CMRmap',12))\n",
        "\n"
      ],
      "execution_count": 29,
      "outputs": [
        {
          "output_type": "display_data",
          "data": {
            "image/png": "[encoded data removed]",
            "text/plain": [
              "<Figure size 432x288 with 1 Axes>"
            ]
          },
          "metadata": {
            "tags": [],
            "needs_background": "light"
          }
        }
      ]
    },
    {
      "cell_type": "code",
      "metadata": {
        "id": "t_GTqEe8C08D",
        "outputId": "6ffc98da-3345-455a-c9e1-52da92210540",
        "colab": {
          "base_uri": "https://localhost:8080/",
          "height": 265
        }
      },
      "source": [
        "most_text_reviews = data.sort_values('text_reviews_count',ascending=False).head(10).set_index('title')['text_reviews_count'].sort_values().plot.barh(width=0.9,color=sns.color_palette('gnuplot2',12))\n"
      ],
      "execution_count": 37,
      "outputs": [
        {
          "output_type": "display_data",
          "data": {
            "image/png": "[encoded data removed]",
            "text/plain": [
              "<Figure size 432x288 with 1 Axes>"
            ]
          },
          "metadata": {
            "tags": [],
            "needs_background": "light"
          }
        }
      ]
    },
    {
      "cell_type": "code",
      "metadata": {
        "id": "aQ8R_vXiDhxD",
        "outputId": "bfccc3db-435d-4a7d-9762-39441a1105f3",
        "colab": {
          "base_uri": "https://localhost:8080/",
          "height": 540
        }
      },
      "source": [
        "author_of_most_books = data.groupby('authors')['title'].count().reset_index().sort_values('title',ascending=False).head(10).set_index('authors')\n",
        "plt.subplots(figsize=(12,8))\n",
        "ax = author_of_most_books['title'].sort_values().plot.barh(width=0.9,color=sns.color_palette('gist_rainbow',12))\n",
        "ax.set_xlabel(\"Total books \", fontsize=15)\n",
        "ax.set_ylabel(\"Authors\", fontsize=15)\n",
        "ax.set_title(\"Top 10 authors with most books\",fontsize=20,color='black')"
      ],
      "execution_count": 39,
      "outputs": [
        {
          "output_type": "execute_result",
          "data": {
            "text/plain": [
              "Text(0.5, 1.0, 'Top 10 authors with most books')"
            ]
          },
          "metadata": {
            "tags": []
          },
          "execution_count": 39
        },
        {
          "output_type": "display_data",
          "data": {
            "image/png": "[encoded data removed]",
            "text/plain": [
              "<Figure size 864x576 with 1 Axes>"
            ]
          },
          "metadata": {
            "tags": [],
            "needs_background": "light"
          }
        }
      ]
    },
    {
      "cell_type": "code",
      "metadata": {
        "id": "8oyjX6HaHReE",
        "outputId": "b2273ff7-c264-481d-817a-2d4b5b0bdfd8",
        "colab": {
          "base_uri": "https://localhost:8080/",
          "height": 204
        }
      },
      "source": [
        "data.count().sort_values()"
      ],
      "execution_count": 41,
      "outputs": [
        {
          "output_type": "execute_result",
          "data": {
            "text/plain": [
              "Unnamed: 12               3\n",
              "title                 11127\n",
              "authors               11127\n",
              "average_rating        11127\n",
              "language_code         11127\n",
              "  num_pages           11127\n",
              "ratings_count         11127\n",
              "text_reviews_count    11127\n",
              "publication_date      11127\n",
              "publisher             11127\n",
              "dtype: int64"
            ]
          },
          "metadata": {
            "tags": []
          },
          "execution_count": 41
        }
      ]
    },
    {
      "cell_type": "code",
      "metadata": {
        "id": "UhTYt4i8HjuK"
      },
      "source": [
        "sort_rating_book=data[['title','ratings_count']].sort_values('ratings_count',ascending=False)"
      ],
      "execution_count": 52,
      "outputs": []
    },
    {
      "cell_type": "markdown",
      "metadata": {
        "id": "Vh80ZU4GJJpm"
      },
      "source": [
        "**`Recommendations based on rating counts`**\n",
        "\n",
        "\n",
        "\n",
        "\n"
      ]
    },
    {
      "cell_type": "code",
      "metadata": {
        "id": "2D3Qna9pIYFP",
        "outputId": "9124f3b5-e400-41fa-d0a2-5e9946d787dc",
        "colab": {
          "base_uri": "https://localhost:8080/",
          "height": 119
        }
      },
      "source": [
        "n=5\n",
        "user_input='The Book Thief'\n",
        "sort_rating_book[(sort_rating_book['title']!=user_input)]['title'][0:n]"
      ],
      "execution_count": 53,
      "outputs": [
        {
          "output_type": "execute_result",
          "data": {
            "text/plain": [
              "10340                              Twilight (Twilight  #1)\n",
              "1697                   The Hobbit  or There and Back Again\n",
              "1462                                The Catcher in the Rye\n",
              "307                   Angels & Demons (Robert Langdon  #1)\n",
              "3        Harry Potter and the Prisoner of Azkaban (Harr...\n",
              "Name: title, dtype: object"
            ]
          },
          "metadata": {
            "tags": []
          },
          "execution_count": 53
        }
      ]
    },
    {
      "cell_type": "code",
      "metadata": {
        "id": "2ZwzhfizKu7D",
        "outputId": "8cfeeb85-7ce1-43c3-a5f3-f1a4fe890568",
        "colab": {
          "base_uri": "https://localhost:8080/",
          "height": 119
        }
      },
      "source": [
        "n=5\n",
        "user_input='Twilight'\n",
        "sort_rating_book[(sort_rating_book['title']!=user_input)]['title'][0:n]"
      ],
      "execution_count": 54,
      "outputs": [
        {
          "output_type": "execute_result",
          "data": {
            "text/plain": [
              "10340                              Twilight (Twilight  #1)\n",
              "1697                   The Hobbit  or There and Back Again\n",
              "1462                                The Catcher in the Rye\n",
              "307                   Angels & Demons (Robert Langdon  #1)\n",
              "3        Harry Potter and the Prisoner of Azkaban (Harr...\n",
              "Name: title, dtype: object"
            ]
          },
          "metadata": {
            "tags": []
          },
          "execution_count": 54
        }
      ]
    },
    {
      "cell_type": "markdown",
      "metadata": {
        "id": "0omLDYxnO1jI"
      },
      "source": [
        "**Content Based Filtering**"
      ]
    },
    {
      "cell_type": "code",
      "metadata": {
        "id": "_DKxNzZbNdIV"
      },
      "source": [
        "ds = pd.DataFrame({'ID':data['title'].index, 'Title':data['title'].values})\n",
        "tf = TfidfVectorizer(analyzer='word', ngram_range=(1, 3), min_df=0, stop_words='english')\n",
        "tfidf_matrix = tf.fit_transform(ds['Title'])\n",
        "cosine_similarities = cosine_similarity(tfidf_matrix,tfidf_matrix)\n",
        "results = {}\n",
        "for index,value in ds.iterrows(): #iterates through all the rows\n",
        "    similar_indices = cosine_similarities[index].argsort()[:-6:-1]\n",
        "    similar_items = [(cosine_similarities[index][i], ds['ID'][i]) for i in similar_indices]\n",
        "    results[value['ID']] = similar_items[1:]"
      ],
      "execution_count": 82,
      "outputs": []
    },
    {
      "cell_type": "code",
      "metadata": {
        "id": "YxONwuJiO_Y8"
      },
      "source": [
        "ds.to_csv('ds.csv')\n"
      ],
      "execution_count": 81,
      "outputs": []
    },
    {
      "cell_type": "code",
      "metadata": {
        "id": "duRvIfcHQu5Y",
        "outputId": "c648064e-7c06-4078-a98b-13e75bac5512",
        "colab": {
          "base_uri": "https://localhost:8080/",
          "height": 122
        }
      },
      "source": [
        "def item(id):\n",
        "    return ds.loc[ds['ID'] == id]['Title'].tolist()[0]\n",
        "def recommend(id, num):\n",
        "    if (num == 0):\n",
        "        print(\"Unable to recommend any book as you have not chosen the number of book to be recommended\")\n",
        "    elif (num==1):\n",
        "        print(\"Recommending \" + str(num) + \" book similar to \" + item(id))   \n",
        "    else :\n",
        "        print(\"Recommending \" + str(num) + \" books similar to \" + item(id))\n",
        "        \n",
        "    recs = results[id][:num]\n",
        "    for rec in recs:\n",
        "        print(\"You may also like to read: \" + item(rec[1]) + \" (score:\" + str(rec[0]) + \")\")\n",
        "\n",
        "recommend(5456,5)"
      ],
      "execution_count": 84,
      "outputs": [
        {
          "output_type": "stream",
          "text": [
            "Recommending 5 books similar to Marine: A Guided Tour of a Marine Expeditionary Unit (Guided Tour)\n",
            "You may also like to read: Carrier: A Guided Tour of an Aircraft Carrier (Guided Tour) (score:0.3482359503280821)\n",
            "You may also like to read: Airborne: A Guided Tour Of An Airborne Task Force (score:0.2301648533520905)\n",
            "You may also like to read: A Guided Tour of 5 Works by Plato: Euthyphro/Apology/Crito/Phaedo/Cave (score:0.2001336693246195)\n",
            "You may also like to read: Merlin's Tour of the Universe (score:0.12005205185717688)\n"
          ],
          "name": "stdout"
        }
      ]
    },
    {
      "cell_type": "markdown",
      "metadata": {
        "id": "XEOONzrfRnUJ"
      },
      "source": [
        "**Hybrid Model consisting of both author as well as book**"
      ]
    },
    {
      "cell_type": "code",
      "metadata": {
        "id": "DSxRskq6RZVc"
      },
      "source": [
        "ds1 = pd.DataFrame({'ID':data['title'].index,'Author':data['authors'].values, 'Title':data['title'].values})\n",
        "tf = TfidfVectorizer(analyzer='word', ngram_range=(1, 3), min_df=0, stop_words='english')\n",
        "tfidf_matrix = tf.fit_transform(ds['Title'])\n",
        "cosine_similarities = cosine_similarity(tfidf_matrix,tfidf_matrix)\n",
        "results = {}\n",
        "for index,value in ds.iterrows(): #iterates through all the rows\n",
        "    similar_indices = cosine_similarities[index].argsort()[:-6:-1]\n",
        "    similar_items = [(cosine_similarities[index][i], ds['ID'][i]) for i in similar_indices]\n",
        "    results[value['ID']] = similar_items[1:]"
      ],
      "execution_count": 86,
      "outputs": []
    },
    {
      "cell_type": "code",
      "metadata": {
        "id": "h5Yfh7v9SxF7"
      },
      "source": [
        "def item(id):\n",
        "    return ds1.loc[ds1['ID'] == id]['Author'].tolist()[0]\n",
        "def book(id):\n",
        "    return ds1.loc[ds1['ID'] == id]['Title'].tolist()[0]\n",
        "def recommend(id, num):\n",
        "    if (num == 0):\n",
        "        print(\"Unable to recommend any book as you have not chosen the number of book to be recommended\")    \n",
        "    else :\n",
        "        print(\"Recommending \" + str(num) + \" similar books to  \" + book(id) + \" written by \" + item(id))\n",
        "        \n",
        "    recs = results[id][:num]\n",
        "    for rec in recs:\n",
        "        print(\"You may also like to read: \" + book(rec[1]) + \" by author \" + item(rec[1]) + \" (score:\" + str(rec[0]) + \")\")\n"
      ],
      "execution_count": 87,
      "outputs": []
    },
    {
      "cell_type": "code",
      "metadata": {
        "id": "751mT7YmTLo6",
        "outputId": "2b63c7ad-87c7-4b86-f457-ee19beed9eec",
        "colab": {
          "base_uri": "https://localhost:8080/",
          "height": 122
        }
      },
      "source": [
        "recommend(96,5)"
      ],
      "execution_count": 90,
      "outputs": [
        {
          "output_type": "stream",
          "text": [
            "Recommending 5 similar books to  Dinner with Anna Karenina written by Gloria Goldreich\n",
            "You may also like to read: Anna Karenina by author Leo Tolstoy/Richard Pevear/Larissa Volokhonsky/John Bayley (score:0.6417284412791181)\n",
            "You may also like to read: Anna Karenina by author Leo Tolstoy/Constance Garnett (score:0.6417284412791181)\n",
            "You may also like to read: Anna Karenina by author Leo Tolstoy/Amy Mandelker/Constance Garnett (score:0.6417284412791181)\n",
            "You may also like to read: Anna Karenina by author Leo Tolstoy/David Magarshack/Priscilla Meyer (score:0.6417284412791181)\n"
          ],
          "name": "stdout"
        }
      ]
    },
    {
      "cell_type": "code",
      "metadata": {
        "id": "ioPS4x4DTPNm"
      },
      "source": [
        ""
      ],
      "execution_count": null,
      "outputs": []
    }
  ]
}